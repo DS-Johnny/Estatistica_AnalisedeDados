{
 "cells": [
  {
   "cell_type": "markdown",
   "metadata": {},
   "source": [
    "# Exercícios Fim de Ciclo"
   ]
  },
  {
   "cell_type": "markdown",
   "metadata": {},
   "source": [
    "## 1- Importe os dados na sua ferramenta de preferência e calcule e utilize a média e mediana para todas as variáveis pertinentes, para responder às perguntas da CEO:"
   ]
  },
  {
   "cell_type": "code",
   "execution_count": 108,
   "metadata": {},
   "outputs": [],
   "source": [
    "import pandas as pd\n",
    "orders = pd.read_csv('datasets/orders.csv')\n",
    "reviews = pd.read_csv('datasets/order_reviews.csv')\n",
    "sellers = pd.read_csv('datasets/sellers.csv')\n",
    "order_items = pd.read_csv('datasets/order_items.csv')"
   ]
  },
  {
   "cell_type": "markdown",
   "metadata": {},
   "source": [
    "### Quantos meses abrangem o histórico de vendas?"
   ]
  },
  {
   "cell_type": "code",
   "execution_count": 42,
   "metadata": {},
   "outputs": [
    {
     "data": {
      "text/plain": [
       "24"
      ]
     },
     "execution_count": 42,
     "metadata": {},
     "output_type": "execute_result"
    }
   ],
   "source": [
    "# Converte a coluna order_approved_at para datetime\n",
    "orders['order_approved_at'] = pd.to_datetime(orders['order_approved_at'])\n",
    "# Cria coluna com apenas o mes e o ano \n",
    "orders['periodo'] = orders['order_approved_at'].dt.to_period('M')\n",
    "# Conta o número de períodos únicos\n",
    "orders['periodo'].dropna()\n",
    "orders['periodo'].nunique()\n"
   ]
  },
  {
   "cell_type": "markdown",
   "metadata": {},
   "source": [
    "### Qual o nível de vendas nos últimos 6 meses?\n"
   ]
  },
  {
   "cell_type": "code",
   "execution_count": 71,
   "metadata": {},
   "outputs": [
    {
     "name": "stdout",
     "output_type": "stream",
     "text": [
      "Quantidade de pedidos: 32805\n"
     ]
    }
   ],
   "source": [
    "meses = orders['periodo'].sort_values(ascending=False).unique()\n",
    "list_mes = meses.astype(str)\n",
    "pedidos = 0\n",
    "for mes in range(6):\n",
    "    qt = orders[orders['periodo'] == list_mes[mes]]['order_id'].nunique()\n",
    "    pedidos += qt\n",
    "print(f'Quantidade de pedidos: {pedidos}')"
   ]
  },
  {
   "cell_type": "markdown",
   "metadata": {},
   "source": [
    "### Quantos clientes temos tido nos últimos 6 meses?"
   ]
  },
  {
   "cell_type": "code",
   "execution_count": 77,
   "metadata": {},
   "outputs": [
    {
     "name": "stdout",
     "output_type": "stream",
     "text": [
      "Quantidade de clientes nos últimos 6 meses: 32805\n"
     ]
    }
   ],
   "source": [
    "clientes = 0\n",
    "for mes in range(6):\n",
    "    qt = orders[orders['periodo'] == list_mes[mes]]['customer_id'].nunique()\n",
    "    clientes += qt\n",
    "print(f'Quantidade de clientes nos últimos 6 meses: {clientes}')"
   ]
  },
  {
   "cell_type": "markdown",
   "metadata": {},
   "source": [
    "### Qual a avaliação que temos dos clientes?"
   ]
  },
  {
   "cell_type": "code",
   "execution_count": 101,
   "metadata": {},
   "outputs": [
    {
     "data": {
      "text/plain": [
       "review_score\n",
       "1    11424\n",
       "2     3151\n",
       "3     8179\n",
       "4    19142\n",
       "5    57328\n",
       "Name: count, dtype: int64"
      ]
     },
     "execution_count": 101,
     "metadata": {},
     "output_type": "execute_result"
    }
   ],
   "source": [
    "rank_reviews = reviews['review_score'].value_counts().sort_index()\n",
    "rank_reviews"
   ]
  },
  {
   "cell_type": "markdown",
   "metadata": {},
   "source": [
    "### Quantos vendedores tem vendido pela nossa plataforma nos últimos 6 meses?"
   ]
  },
  {
   "cell_type": "code",
   "execution_count": 121,
   "metadata": {},
   "outputs": [],
   "source": [
    "merged_df = pd.merge(orders, order_items, on='order_id', how='inner')\n",
    "merged_df['order_approved_at'] = pd.to_datetime(merged_df['order_approved_at'])\n",
    "merged_df['periodo'] = merged_df['order_approved_at'].dt.to_period('M')\n",
    "meses = merged_df['periodo'].sort_values(ascending=False).unique()\n",
    "list_mes = meses.astype(str)\n",
    "\n"
   ]
  },
  {
   "cell_type": "code",
   "execution_count": 119,
   "metadata": {},
   "outputs": [
    {
     "name": "stdout",
     "output_type": "stream",
     "text": [
      "Quantidade de vendedores nos ultimos 6 meses: 5952\n"
     ]
    }
   ],
   "source": [
    "vendedores = 0\n",
    "for mes in range(6):\n",
    "    qt = merged_df[merged_df['periodo'] == list_mes[mes]]['seller_id'].nunique()\n",
    "    vendedores += qt\n",
    "print(f'Quantidade de vendedores nos ultimos 6 meses: {vendedores}')"
   ]
  },
  {
   "cell_type": "markdown",
   "metadata": {},
   "source": [
    "# 2 - Medidas de Posição de Erros de Modelos."
   ]
  },
  {
   "cell_type": "markdown",
   "metadata": {},
   "source": [
    "## Considerando…\n",
    "- As medidas de posição estudadas e\n",
    "- O conjunto de dados reais e 2 modelos que estimam este dado real:"
   ]
  },
  {
   "cell_type": "code",
   "execution_count": 143,
   "metadata": {},
   "outputs": [
    {
     "name": "stdout",
     "output_type": "stream",
     "text": [
      "    Dado Real  Modelo 1  Modelo 2\n",
      "0       1.692     5.039     8.270\n",
      "1       2.933     5.466    -5.929\n",
      "2       3.343     6.514     6.598\n",
      "3       4.069     6.034     3.418\n",
      "4       5.946     8.419    14.936\n",
      "5       6.244     8.122     3.929\n",
      "6       7.249    10.374     9.620\n",
      "7       8.792    11.396     1.267\n",
      "8       9.111    12.167    10.166\n",
      "9      10.849    13.425     2.782\n",
      "10     11.833    15.250    19.751\n",
      "11     12.376    15.188     8.802\n",
      "12     13.555    16.833    18.830\n",
      "13     14.423    16.211    10.406\n",
      "14     15.148    18.222    16.557\n",
      "15     16.811    19.406     9.106\n",
      "16     17.537    20.805    22.635\n",
      "17     18.583    21.291    13.047\n",
      "18     19.385    21.577    23.038\n",
      "19     20.102    22.051    19.136\n",
      "20     21.526    23.788    26.519\n",
      "21     22.810    24.405    15.113\n",
      "22     23.326    25.489    26.422\n",
      "23     24.898    26.449    16.370\n",
      "24     25.820    29.231    33.615\n",
      "25     26.589    29.295    20.990\n",
      "26     27.152    30.228    28.595\n",
      "27     28.705    30.353    22.005\n",
      "28     29.613    32.920    35.437\n",
      "29     30.390    33.195    26.685\n",
      "30     31.104    34.155    32.088\n",
      "31     32.730    35.365    25.796\n",
      "32     33.481    35.722    38.055\n",
      "33     34.011    37.005    33.909\n",
      "34     35.287    38.430    38.012\n",
      "35     36.952    39.476    27.912\n",
      "36     37.507    39.760    42.320\n",
      "37     38.550    40.275    33.324\n",
      "38     39.113    42.170    40.187\n",
      "39     40.065    42.033    39.446\n"
     ]
    }
   ],
   "source": [
    "import pandas as pd\n",
    "\n",
    "# Dados fornecidos\n",
    "data = {\n",
    "    'Dado Real': [1.692, 2.933, 3.343, 4.069, 5.946, 6.244, 7.249, 8.792, 9.111, 10.849, 11.833, 12.376, 13.555, 14.423, 15.148, 16.811, 17.537, 18.583, 19.385, 20.102, 21.526, 22.810,\n",
    "                  23.326, 24.898, 25.820, 26.589, 27.152, 28.705, 29.613, 30.390, 31.104, 32.730, 33.481, 34.011, 35.287, 36.952, 37.507, 38.550, 39.113, 40.065],\n",
    "    'Modelo 1': [5.039, 5.466, 6.514, 6.034, 8.419, 8.122, 10.374, 11.396, 12.167, 13.425, 15.250, 15.188, 16.833, 16.211, 18.222, 19.406, 20.805, 21.291, 21.577, 22.051, 23.788, 24.405,\n",
    "                 25.489, 26.449, 29.231, 29.295, 30.228, 30.353, 32.920, 33.195, 34.155, 35.365, 35.722, 37.005, 38.430, 39.476, 39.760, 40.275, 42.170, 42.033],\n",
    "    'Modelo 2': [8.270, -5.929, 6.598, 3.418, 14.936, 3.929, 9.620, 1.267, 10.166, 2.782, 19.751, 8.802, 18.830, 10.406, 16.557, 9.106, 22.635, 13.047, 23.038, 19.136, 26.519, 15.113,\n",
    "                 26.422, 16.370, 33.615, 20.990, 28.595, 22.005, 35.437, 26.685, 32.088, 25.796, 38.055, 33.909, 38.012, 27.912, 42.320, 33.324, 40.187, 39.446]\n",
    "}\n",
    "\n",
    "# Criar o DataFrame\n",
    "df = pd.DataFrame(data)\n",
    "\n",
    "# Visualizar o DataFrame\n",
    "print(df)\n"
   ]
  },
  {
   "cell_type": "markdown",
   "metadata": {},
   "source": [
    "## Diga qual destes é o melhor modelo. Justifique!"
   ]
  },
  {
   "cell_type": "code",
   "execution_count": 152,
   "metadata": {},
   "outputs": [
    {
     "data": {
      "text/html": [
       "<div>\n",
       "<style scoped>\n",
       "    .dataframe tbody tr th:only-of-type {\n",
       "        vertical-align: middle;\n",
       "    }\n",
       "\n",
       "    .dataframe tbody tr th {\n",
       "        vertical-align: top;\n",
       "    }\n",
       "\n",
       "    .dataframe thead th {\n",
       "        text-align: right;\n",
       "    }\n",
       "</style>\n",
       "<table border=\"1\" class=\"dataframe\">\n",
       "  <thead>\n",
       "    <tr style=\"text-align: right;\">\n",
       "      <th></th>\n",
       "      <th>Dado Real</th>\n",
       "      <th>Modelo 1</th>\n",
       "      <th>Modelo 2</th>\n",
       "    </tr>\n",
       "  </thead>\n",
       "  <tbody>\n",
       "    <tr>\n",
       "      <th>count</th>\n",
       "      <td>40.000000</td>\n",
       "      <td>40.000000</td>\n",
       "      <td>40.000000</td>\n",
       "    </tr>\n",
       "    <tr>\n",
       "      <th>mean</th>\n",
       "      <td>20.990250</td>\n",
       "      <td>23.588350</td>\n",
       "      <td>20.479125</td>\n",
       "    </tr>\n",
       "    <tr>\n",
       "      <th>std</th>\n",
       "      <td>11.644542</td>\n",
       "      <td>11.576094</td>\n",
       "      <td>12.425490</td>\n",
       "    </tr>\n",
       "    <tr>\n",
       "      <th>min</th>\n",
       "      <td>1.692000</td>\n",
       "      <td>5.039000</td>\n",
       "      <td>-5.929000</td>\n",
       "    </tr>\n",
       "    <tr>\n",
       "      <th>25%</th>\n",
       "      <td>11.587000</td>\n",
       "      <td>14.747250</td>\n",
       "      <td>10.029500</td>\n",
       "    </tr>\n",
       "    <tr>\n",
       "      <th>50%</th>\n",
       "      <td>20.814000</td>\n",
       "      <td>22.919500</td>\n",
       "      <td>20.370500</td>\n",
       "    </tr>\n",
       "    <tr>\n",
       "      <th>75%</th>\n",
       "      <td>30.568500</td>\n",
       "      <td>33.435000</td>\n",
       "      <td>29.468250</td>\n",
       "    </tr>\n",
       "    <tr>\n",
       "      <th>max</th>\n",
       "      <td>40.065000</td>\n",
       "      <td>42.170000</td>\n",
       "      <td>42.320000</td>\n",
       "    </tr>\n",
       "  </tbody>\n",
       "</table>\n",
       "</div>"
      ],
      "text/plain": [
       "       Dado Real   Modelo 1   Modelo 2\n",
       "count  40.000000  40.000000  40.000000\n",
       "mean   20.990250  23.588350  20.479125\n",
       "std    11.644542  11.576094  12.425490\n",
       "min     1.692000   5.039000  -5.929000\n",
       "25%    11.587000  14.747250  10.029500\n",
       "50%    20.814000  22.919500  20.370500\n",
       "75%    30.568500  33.435000  29.468250\n",
       "max    40.065000  42.170000  42.320000"
      ]
     },
     "execution_count": 152,
     "metadata": {},
     "output_type": "execute_result"
    }
   ],
   "source": [
    "df.describe()"
   ]
  },
  {
   "cell_type": "code",
   "execution_count": 144,
   "metadata": {},
   "outputs": [
    {
     "data": {
      "text/plain": [
       "np.float64(20.990249999999996)"
      ]
     },
     "execution_count": 144,
     "metadata": {},
     "output_type": "execute_result"
    }
   ],
   "source": [
    "y_media = df['Dado Real'].mean()\n",
    "y_media"
   ]
  },
  {
   "cell_type": "code",
   "execution_count": 148,
   "metadata": {},
   "outputs": [],
   "source": [
    "def ssr(previsao):\n",
    "    soma = 0\n",
    "    for i in previsao:\n",
    "        resultado = (i - y_media)**2\n",
    "        soma += resultado\n",
    "\n",
    "    return soma\n",
    "\n",
    "def sse(previsao, observado):\n",
    "    soma = 0\n",
    "    for i in range(len(previsao)):\n",
    "        resultado = (observado[i] - previsao[i])**2\n",
    "        soma += resultado\n",
    "    return soma\n",
    "\n",
    "def ssto(observado):\n",
    "    soma = 0\n",
    "    for i in observado:\n",
    "        resultado = (i - y_media)**2\n",
    "        soma += resultado\n",
    "    return soma\n",
    "\n",
    "def r_sqr(sse, ssto):\n",
    "    resultado = 1 - (sse/ssto)\n",
    "    return resultado"
   ]
  },
  {
   "cell_type": "code",
   "execution_count": 149,
   "metadata": {},
   "outputs": [],
   "source": [
    "mod1_ssr = ssr(df['Modelo 1'])\n",
    "mod1_sse = sse(df['Modelo 1'], df['Dado Real'])\n",
    "\n",
    "mod2_ssr = ssr(df['Modelo 2'])\n",
    "mod2_sse = sse(df['Modelo 2'], df['Dado Real'])\n",
    "\n",
    "ssto = ssto(df['Dado Real'])\n",
    "\n",
    "mod1_rquadrado = r_sqr(mod1_sse, ssto)\n",
    "mod2_rquadrado = r_sqr(mod2_sse, ssto)"
   ]
  },
  {
   "cell_type": "code",
   "execution_count": 151,
   "metadata": {},
   "outputs": [
    {
     "name": "stdout",
     "output_type": "stream",
     "text": [
      "-=-=-=-=-=-=-=-=-=-=-=-=-=-=-=-=-=-=-=-=-=-=-=-=-=-=-=-=-=-=\n",
      "Modelo 1\n",
      "R Quadrado: 0.9465858949898526\n",
      "Tendo:\n",
      "SSE: 282.46547000000015\n",
      "SSR: 5496.237349500001\n",
      "-=-=-=-=-=-=-=-=-=-=-=-=-=-=-=-=-=-=-=-=-=-=-=-=-=-=-=-=-=-=\n",
      "Modelo 2\n",
      "R Quadrado: 0.7799840856223118\n",
      "Tendo:\n",
      "SSE: 1163.4922769999996\n",
      "SSR: 6031.7689930000015\n",
      "-=-=-=-=-=-=-=-=-=-=-=-=-=-=-=-=-=-=-=-=-=-=-=-=-=-=-=-=-=-=\n",
      "SSTO: 5288.218719499999\n"
     ]
    }
   ],
   "source": [
    "print(30*'-=')\n",
    "print(f'Modelo 1\\nR Quadrado: {mod1_rquadrado}\\nTendo:\\nSSE: {mod1_sse}\\nSSR: {mod1_ssr}')\n",
    "print(30*'-=')\n",
    "print(f'Modelo 2\\nR Quadrado: {mod2_rquadrado}\\nTendo:\\nSSE: {mod2_sse}\\nSSR: {mod2_ssr}')\n",
    "print(30*'-=')\n",
    "print(f'SSTO: {ssto}')"
   ]
  },
  {
   "cell_type": "markdown",
   "metadata": {},
   "source": [
    "# Resposta: Com base no cálculo do R Quadrado podemos concluir que o Modelo 1 é melhor que o Modelo dois pois o resultado está mais próximo de 1, o que significa que a variação total nos dados é melhor explicada pelo modelo 1"
   ]
  },
  {
   "cell_type": "code",
   "execution_count": 155,
   "metadata": {},
   "outputs": [
    {
     "data": {
      "image/png": "[encoded data removed]",
      "text/plain": [
       "<Figure size 1000x600 with 1 Axes>"
      ]
     },
     "metadata": {},
     "output_type": "display_data"
    }
   ],
   "source": [
    "import pandas as pd\n",
    "import matplotlib.pyplot as plt\n",
    "import numpy as np\n",
    "from scipy.stats import linregress\n",
    "\n",
    "# Dados fornecidos\n",
    "data = {\n",
    "    'Dado Real': [1.692, 2.933, 3.343, 4.069, 5.946, 6.244, 7.249, 8.792, 9.111, 10.849, 11.833, 12.376, 13.555, 14.423, 15.148, 16.811, 17.537, 18.583, 19.385, 20.102, 21.526, 22.810,\n",
    "                  23.326, 24.898, 25.820, 26.589, 27.152, 28.705, 29.613, 30.390, 31.104, 32.730, 33.481, 34.011, 35.287, 36.952, 37.507, 38.550, 39.113, 40.065],\n",
    "    'Modelo 1': [5.039, 5.466, 6.514, 6.034, 8.419, 8.122, 10.374, 11.396, 12.167, 13.425, 15.250, 15.188, 16.833, 16.211, 18.222, 19.406, 20.805, 21.291, 21.577, 22.051, 23.788, 24.405,\n",
    "                 25.489, 26.449, 29.231, 29.295, 30.228, 30.353, 32.920, 33.195, 34.155, 35.365, 35.722, 37.005, 38.430, 39.476, 39.760, 40.275, 42.170, 42.033],\n",
    "    'Modelo 2': [8.270, -5.929, 6.598, 3.418, 14.936, 3.929, 9.620, 1.267, 10.166, 2.782, 19.751, 8.802, 18.830, 10.406, 16.557, 9.106, 22.635, 13.047, 23.038, 19.136, 26.519, 15.113,\n",
    "                 26.422, 16.370, 33.615, 20.990, 28.595, 22.005, 35.437, 26.685, 32.088, 25.796, 38.055, 33.909, 38.012, 27.912, 42.320, 33.324, 40.187, 39.446]\n",
    "}\n",
    "\n",
    "# Criar o DataFrame\n",
    "df = pd.DataFrame(data)\n",
    "\n",
    "# Calcular a regressão linear para Modelo 1\n",
    "slope, intercept, r_value, p_value, std_err = linregress(df['Dado Real'], df['Modelo 1'])\n",
    "\n",
    "# Criar a linha de regressão para Modelo 1\n",
    "modelo_1_line = slope * df['Dado Real'] + intercept\n",
    "\n",
    "# Plotar o gráfico\n",
    "plt.figure(figsize=(10, 6))\n",
    "plt.scatter(df['Dado Real'], df['Modelo 1'], color='blue', label='Dado Real')\n",
    "plt.plot(df['Dado Real'], modelo_1_line, color='red', label='Modelo 1', linewidth=2)\n",
    "plt.xlabel('Dado Real')\n",
    "plt.ylabel('Modelo 1')\n",
    "plt.title('Pontos Dado Real e Reta Modelo 1')\n",
    "plt.legend()\n",
    "plt.grid(True)\n",
    "plt.show()\n"
   ]
  },
  {
   "cell_type": "code",
   "execution_count": 157,
   "metadata": {},
   "outputs": [
    {
     "data": {
      "image/png": "[encoded data removed]",
      "text/plain": [
       "<Figure size 1000x600 with 1 Axes>"
      ]
     },
     "metadata": {},
     "output_type": "display_data"
    }
   ],
   "source": [
    "# Calcular a regressão linear para Modelo 1\n",
    "slope, intercept, r_value, p_value, std_err = linregress(df['Dado Real'], df['Modelo 2'])\n",
    "\n",
    "# Criar a linha de regressão para Modelo 1\n",
    "modelo_2_line = slope * df['Dado Real'] + intercept\n",
    "\n",
    "# Plotar o gráfico\n",
    "plt.figure(figsize=(10, 6))\n",
    "plt.scatter(df['Dado Real'], df['Modelo 2'], color='blue', label='Dado Real')\n",
    "plt.plot(df['Dado Real'], modelo_2_line, color='red', label='Modelo 2', linewidth=2)\n",
    "plt.xlabel('Dado Real')\n",
    "plt.ylabel('Modelo 2')\n",
    "plt.title('Pontos Dado Real e Reta Modelo 2')\n",
    "plt.legend()\n",
    "plt.grid(True)\n",
    "plt.show()"
   ]
  },
  {
   "cell_type": "code",
   "execution_count": null,
   "metadata": {},
   "outputs": [],
   "source": []
  }
 ],
 "metadata": {
  "kernelspec": {
   "display_name": "env",
   "language": "python",
   "name": "python3"
  },
  "language_info": {
   "codemirror_mode": {
    "name": "ipython",
    "version": 3
   },
   "file_extension": ".py",
   "mimetype": "text/x-python",
   "name": "python",
   "nbconvert_exporter": "python",
   "pygments_lexer": "ipython3",
   "version": "3.12.1"
  }
 },
 "nbformat": 4,
 "nbformat_minor": 2
}
