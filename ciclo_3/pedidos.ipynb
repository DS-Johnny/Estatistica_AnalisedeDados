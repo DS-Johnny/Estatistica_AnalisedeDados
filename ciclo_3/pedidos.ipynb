{
 "cells": [
  {
   "cell_type": "code",
   "execution_count": 96,
   "metadata": {},
   "outputs": [],
   "source": [
    "import pandas as pd\n",
    "from matplotlib import pyplot as plt"
   ]
  },
  {
   "cell_type": "code",
   "execution_count": 2,
   "metadata": {},
   "outputs": [],
   "source": [
    "df = pd.read_csv('../datasets/orders.csv')"
   ]
  },
  {
   "cell_type": "markdown",
   "metadata": {},
   "source": [
    "# Tratando os Dados"
   ]
  },
  {
   "cell_type": "code",
   "execution_count": 130,
   "metadata": {},
   "outputs": [
    {
     "data": {
      "text/html": [
       "<div>\n",
       "<style scoped>\n",
       "    .dataframe tbody tr th:only-of-type {\n",
       "        vertical-align: middle;\n",
       "    }\n",
       "\n",
       "    .dataframe tbody tr th {\n",
       "        vertical-align: top;\n",
       "    }\n",
       "\n",
       "    .dataframe thead th {\n",
       "        text-align: right;\n",
       "    }\n",
       "</style>\n",
       "<table border=\"1\" class=\"dataframe\">\n",
       "  <thead>\n",
       "    <tr style=\"text-align: right;\">\n",
       "      <th></th>\n",
       "      <th>order_id</th>\n",
       "      <th>customer_id</th>\n",
       "      <th>order_status</th>\n",
       "      <th>order_purchase_timestamp</th>\n",
       "      <th>order_approved_at</th>\n",
       "      <th>order_delivered_carrier_date</th>\n",
       "      <th>order_delivered_customer_date</th>\n",
       "      <th>order_estimated_delivery_date</th>\n",
       "      <th>dias_ate_aprovacao</th>\n",
       "      <th>dias</th>\n",
       "      <th>aprov_ate_transportadora</th>\n",
       "      <th>dias_ate_transp</th>\n",
       "      <th>transp_ate_entrega</th>\n",
       "      <th>dias_ate_entrega</th>\n",
       "      <th>dif_entrega_prevista</th>\n",
       "      <th>dif_dias_previsao</th>\n",
       "      <th>ano</th>\n",
       "    </tr>\n",
       "  </thead>\n",
       "  <tbody>\n",
       "    <tr>\n",
       "      <th>0</th>\n",
       "      <td>e481f51cbdc54678b7cc49136f2d6af7</td>\n",
       "      <td>9ef432eb6251297304e76186b10a928d</td>\n",
       "      <td>delivered</td>\n",
       "      <td>2017-10-02 10:56:33</td>\n",
       "      <td>2017-10-02 11:07:15</td>\n",
       "      <td>2017-10-04 19:55:00</td>\n",
       "      <td>2017-10-10 21:25:13</td>\n",
       "      <td>2017-10-18</td>\n",
       "      <td>0 days 00:10:42</td>\n",
       "      <td>0</td>\n",
       "      <td>2 days 08:47:45</td>\n",
       "      <td>2</td>\n",
       "      <td>6 days 01:30:13</td>\n",
       "      <td>6</td>\n",
       "      <td>7 days 02:34:47</td>\n",
       "      <td>7</td>\n",
       "      <td>2017</td>\n",
       "    </tr>\n",
       "    <tr>\n",
       "      <th>1</th>\n",
       "      <td>53cdb2fc8bc7dce0b6741e2150273451</td>\n",
       "      <td>b0830fb4747a6c6d20dea0b8c802d7ef</td>\n",
       "      <td>delivered</td>\n",
       "      <td>2018-07-24 20:41:37</td>\n",
       "      <td>2018-07-26 03:24:27</td>\n",
       "      <td>2018-07-26 14:31:00</td>\n",
       "      <td>2018-08-07 15:27:45</td>\n",
       "      <td>2018-08-13</td>\n",
       "      <td>1 days 06:42:50</td>\n",
       "      <td>1</td>\n",
       "      <td>0 days 11:06:33</td>\n",
       "      <td>0</td>\n",
       "      <td>12 days 00:56:45</td>\n",
       "      <td>12</td>\n",
       "      <td>5 days 08:32:15</td>\n",
       "      <td>5</td>\n",
       "      <td>2018</td>\n",
       "    </tr>\n",
       "    <tr>\n",
       "      <th>2</th>\n",
       "      <td>47770eb9100c2d0c44946d9cf07ec65d</td>\n",
       "      <td>41ce2a54c0b03bf3443c3d931a367089</td>\n",
       "      <td>delivered</td>\n",
       "      <td>2018-08-08 08:38:49</td>\n",
       "      <td>2018-08-08 08:55:23</td>\n",
       "      <td>2018-08-08 13:50:00</td>\n",
       "      <td>2018-08-17 18:06:29</td>\n",
       "      <td>2018-09-04</td>\n",
       "      <td>0 days 00:16:34</td>\n",
       "      <td>0</td>\n",
       "      <td>0 days 04:54:37</td>\n",
       "      <td>0</td>\n",
       "      <td>9 days 04:16:29</td>\n",
       "      <td>9</td>\n",
       "      <td>17 days 05:53:31</td>\n",
       "      <td>17</td>\n",
       "      <td>2018</td>\n",
       "    </tr>\n",
       "    <tr>\n",
       "      <th>3</th>\n",
       "      <td>949d5b44dbf5de918fe9c16f97b45f8a</td>\n",
       "      <td>f88197465ea7920adcdbec7375364d82</td>\n",
       "      <td>delivered</td>\n",
       "      <td>2017-11-18 19:28:06</td>\n",
       "      <td>2017-11-18 19:45:59</td>\n",
       "      <td>2017-11-22 13:39:59</td>\n",
       "      <td>2017-12-02 00:28:42</td>\n",
       "      <td>2017-12-15</td>\n",
       "      <td>0 days 00:17:53</td>\n",
       "      <td>0</td>\n",
       "      <td>3 days 17:54:00</td>\n",
       "      <td>3</td>\n",
       "      <td>9 days 10:48:43</td>\n",
       "      <td>9</td>\n",
       "      <td>12 days 23:31:18</td>\n",
       "      <td>12</td>\n",
       "      <td>2017</td>\n",
       "    </tr>\n",
       "    <tr>\n",
       "      <th>4</th>\n",
       "      <td>ad21c59c0840e6cb83a9ceb5573f8159</td>\n",
       "      <td>8ab97904e6daea8866dbdbc4fb7aad2c</td>\n",
       "      <td>delivered</td>\n",
       "      <td>2018-02-13 21:18:39</td>\n",
       "      <td>2018-02-13 22:20:29</td>\n",
       "      <td>2018-02-14 19:46:34</td>\n",
       "      <td>2018-02-16 18:17:02</td>\n",
       "      <td>2018-02-26</td>\n",
       "      <td>0 days 01:01:50</td>\n",
       "      <td>0</td>\n",
       "      <td>0 days 21:26:05</td>\n",
       "      <td>0</td>\n",
       "      <td>1 days 22:30:28</td>\n",
       "      <td>1</td>\n",
       "      <td>9 days 05:42:58</td>\n",
       "      <td>9</td>\n",
       "      <td>2018</td>\n",
       "    </tr>\n",
       "  </tbody>\n",
       "</table>\n",
       "</div>"
      ],
      "text/plain": [
       "                           order_id                       customer_id  \\\n",
       "0  e481f51cbdc54678b7cc49136f2d6af7  9ef432eb6251297304e76186b10a928d   \n",
       "1  53cdb2fc8bc7dce0b6741e2150273451  b0830fb4747a6c6d20dea0b8c802d7ef   \n",
       "2  47770eb9100c2d0c44946d9cf07ec65d  41ce2a54c0b03bf3443c3d931a367089   \n",
       "3  949d5b44dbf5de918fe9c16f97b45f8a  f88197465ea7920adcdbec7375364d82   \n",
       "4  ad21c59c0840e6cb83a9ceb5573f8159  8ab97904e6daea8866dbdbc4fb7aad2c   \n",
       "\n",
       "  order_status order_purchase_timestamp   order_approved_at  \\\n",
       "0    delivered      2017-10-02 10:56:33 2017-10-02 11:07:15   \n",
       "1    delivered      2018-07-24 20:41:37 2018-07-26 03:24:27   \n",
       "2    delivered      2018-08-08 08:38:49 2018-08-08 08:55:23   \n",
       "3    delivered      2017-11-18 19:28:06 2017-11-18 19:45:59   \n",
       "4    delivered      2018-02-13 21:18:39 2018-02-13 22:20:29   \n",
       "\n",
       "  order_delivered_carrier_date order_delivered_customer_date  \\\n",
       "0          2017-10-04 19:55:00           2017-10-10 21:25:13   \n",
       "1          2018-07-26 14:31:00           2018-08-07 15:27:45   \n",
       "2          2018-08-08 13:50:00           2018-08-17 18:06:29   \n",
       "3          2017-11-22 13:39:59           2017-12-02 00:28:42   \n",
       "4          2018-02-14 19:46:34           2018-02-16 18:17:02   \n",
       "\n",
       "  order_estimated_delivery_date dias_ate_aprovacao  dias  \\\n",
       "0                    2017-10-18    0 days 00:10:42     0   \n",
       "1                    2018-08-13    1 days 06:42:50     1   \n",
       "2                    2018-09-04    0 days 00:16:34     0   \n",
       "3                    2017-12-15    0 days 00:17:53     0   \n",
       "4                    2018-02-26    0 days 01:01:50     0   \n",
       "\n",
       "  aprov_ate_transportadora  dias_ate_transp transp_ate_entrega  \\\n",
       "0          2 days 08:47:45                2    6 days 01:30:13   \n",
       "1          0 days 11:06:33                0   12 days 00:56:45   \n",
       "2          0 days 04:54:37                0    9 days 04:16:29   \n",
       "3          3 days 17:54:00                3    9 days 10:48:43   \n",
       "4          0 days 21:26:05                0    1 days 22:30:28   \n",
       "\n",
       "   dias_ate_entrega dif_entrega_prevista  dif_dias_previsao   ano  \n",
       "0                 6      7 days 02:34:47                  7  2017  \n",
       "1                12      5 days 08:32:15                  5  2018  \n",
       "2                 9     17 days 05:53:31                 17  2018  \n",
       "3                 9     12 days 23:31:18                 12  2017  \n",
       "4                 1      9 days 05:42:58                  9  2018  "
      ]
     },
     "execution_count": 130,
     "metadata": {},
     "output_type": "execute_result"
    }
   ],
   "source": [
    "# Eliminar linhas com dados faltantes\n",
    "df.dropna(inplace=True)\n",
    "# Converter datas para DateTime\n",
    "df['order_purchase_timestamp'] = pd.to_datetime(df['order_purchase_timestamp'])\n",
    "df['order_approved_at'] = pd.to_datetime(df['order_approved_at'])\n",
    "df['order_delivered_carrier_date'] = pd.to_datetime(df['order_delivered_carrier_date'])\n",
    "df['order_delivered_customer_date'] = pd.to_datetime(df['order_delivered_customer_date'])\n",
    "df['order_estimated_delivery_date'] = pd.to_datetime(df['order_estimated_delivery_date'])\n",
    "# Criar coluna de dias até aprovação\n",
    "df['dias_ate_aprovacao'] =  df['order_approved_at'] - df['order_purchase_timestamp']\n",
    "df['dias'] = df['dias_ate_aprovacao'].apply(lambda x: x.days)\n",
    "# Aprovação até transportadora\n",
    "df['aprov_ate_transportadora'] = df['order_delivered_carrier_date'] - df['order_approved_at']\n",
    "df['dias_ate_transp'] = df['aprov_ate_transportadora'].apply(lambda x: x.days)\n",
    "# Transportadora até entrega\n",
    "df['transp_ate_entrega'] = df['order_delivered_customer_date'] - df['order_delivered_carrier_date']\n",
    "df['dias_ate_entrega'] = df['transp_ate_entrega'].apply(lambda x: x.days)\n",
    "# Previsão de Entrega X Entrega real\n",
    "df['dif_entrega_prevista'] = df['order_estimated_delivery_date'] - df['order_delivered_customer_date']\n",
    "df['dif_dias_previsao'] = df['dif_entrega_prevista'].apply(lambda x: x.days)\n",
    "# Coluna de anos de pedido\n",
    "df['ano'] = df['order_approved_at'].apply(lambda x: x.year)\n",
    "df.head()"
   ]
  },
  {
   "cell_type": "markdown",
   "metadata": {},
   "source": [
    "# Calculando estatísticas"
   ]
  },
  {
   "cell_type": "code",
   "execution_count": 91,
   "metadata": {},
   "outputs": [],
   "source": [
    "#Dataframe de estatísticas\n",
    "stats = df.describe()\n",
    "# Lista de colunas do dataframe\n",
    "col_list = stats.columns.to_list()"
   ]
  },
  {
   "cell_type": "code",
   "execution_count": 92,
   "metadata": {},
   "outputs": [],
   "source": [
    "# Desvio Padrão\n",
    "stats.loc['std'] = df[col_list].std()"
   ]
  },
  {
   "cell_type": "code",
   "execution_count": 93,
   "metadata": {},
   "outputs": [],
   "source": [
    "# Intervalo Interquartil ou Intervalo Interquartílico (IQR)(Interquartile Range)\n",
    "iqr_list = []\n",
    "for c in stats.columns:\n",
    "    iqr = stats.loc['75%', c] - stats.loc['25%', c]\n",
    "    iqr_list.append(iqr)\n",
    "\n",
    "stats.loc['iqr'] = iqr_list\n"
   ]
  },
  {
   "cell_type": "code",
   "execution_count": 94,
   "metadata": {},
   "outputs": [
    {
     "data": {
      "text/html": [
       "<div>\n",
       "<style scoped>\n",
       "    .dataframe tbody tr th:only-of-type {\n",
       "        vertical-align: middle;\n",
       "    }\n",
       "\n",
       "    .dataframe tbody tr th {\n",
       "        vertical-align: top;\n",
       "    }\n",
       "\n",
       "    .dataframe thead th {\n",
       "        text-align: right;\n",
       "    }\n",
       "</style>\n",
       "<table border=\"1\" class=\"dataframe\">\n",
       "  <thead>\n",
       "    <tr style=\"text-align: right;\">\n",
       "      <th></th>\n",
       "      <th>order_purchase_timestamp</th>\n",
       "      <th>order_approved_at</th>\n",
       "      <th>order_delivered_carrier_date</th>\n",
       "      <th>order_delivered_customer_date</th>\n",
       "      <th>order_estimated_delivery_date</th>\n",
       "      <th>dias_ate_aprovacao</th>\n",
       "      <th>dias</th>\n",
       "      <th>aprov_ate_transportadora</th>\n",
       "      <th>dias_ate_transp</th>\n",
       "      <th>transp_ate_entrega</th>\n",
       "      <th>dias_ate_entrega</th>\n",
       "      <th>dif_entrega_prevista</th>\n",
       "      <th>dif_dias_previsao</th>\n",
       "    </tr>\n",
       "  </thead>\n",
       "  <tbody>\n",
       "    <tr>\n",
       "      <th>count</th>\n",
       "      <td>96461</td>\n",
       "      <td>96461</td>\n",
       "      <td>96461</td>\n",
       "      <td>96461</td>\n",
       "      <td>96461</td>\n",
       "      <td>96461</td>\n",
       "      <td>96461.000000</td>\n",
       "      <td>96461</td>\n",
       "      <td>96461.000000</td>\n",
       "      <td>96461</td>\n",
       "      <td>96461.000000</td>\n",
       "      <td>96461</td>\n",
       "      <td>96461.000000</td>\n",
       "    </tr>\n",
       "    <tr>\n",
       "      <th>mean</th>\n",
       "      <td>2018-01-01 23:53:26.642249216</td>\n",
       "      <td>2018-01-02 10:10:06.480142336</td>\n",
       "      <td>2018-01-05 05:21:04.508827392</td>\n",
       "      <td>2018-01-14 13:17:13.228102400</td>\n",
       "      <td>2018-01-25 17:33:14.236012544</td>\n",
       "      <td>0 days 10:16:39.837893034</td>\n",
       "      <td>0.264345</td>\n",
       "      <td>2 days 19:10:58.028685168</td>\n",
       "      <td>2.295923</td>\n",
       "      <td>9 days 07:56:08.719275147</td>\n",
       "      <td>8.878396</td>\n",
       "      <td>11 days 04:16:01.007909932</td>\n",
       "      <td>10.875577</td>\n",
       "    </tr>\n",
       "    <tr>\n",
       "      <th>min</th>\n",
       "      <td>2016-09-15 12:16:38</td>\n",
       "      <td>2016-09-15 12:16:38</td>\n",
       "      <td>2016-10-08 10:34:01</td>\n",
       "      <td>2016-10-11 13:46:32</td>\n",
       "      <td>2016-10-04 00:00:00</td>\n",
       "      <td>0 days 00:00:00</td>\n",
       "      <td>0.000000</td>\n",
       "      <td>-172 days +18:44:38</td>\n",
       "      <td>-172.000000</td>\n",
       "      <td>-17 days +21:41:31</td>\n",
       "      <td>-17.000000</td>\n",
       "      <td>-189 days +00:35:53</td>\n",
       "      <td>-189.000000</td>\n",
       "    </tr>\n",
       "    <tr>\n",
       "      <th>25%</th>\n",
       "      <td>2017-09-14 09:28:28</td>\n",
       "      <td>2017-09-14 14:30:14</td>\n",
       "      <td>2017-09-18 16:52:19</td>\n",
       "      <td>2017-09-25 22:31:59</td>\n",
       "      <td>2017-10-05 00:00:00</td>\n",
       "      <td>0 days 00:12:55</td>\n",
       "      <td>0.000000</td>\n",
       "      <td>0 days 20:59:05</td>\n",
       "      <td>0.000000</td>\n",
       "      <td>4 days 02:23:26</td>\n",
       "      <td>4.000000</td>\n",
       "      <td>6 days 09:20:35</td>\n",
       "      <td>6.000000</td>\n",
       "    </tr>\n",
       "    <tr>\n",
       "      <th>50%</th>\n",
       "      <td>2018-01-20 19:59:42</td>\n",
       "      <td>2018-01-22 13:49:00</td>\n",
       "      <td>2018-01-24 16:19:03</td>\n",
       "      <td>2018-02-02 19:50:56</td>\n",
       "      <td>2018-02-16 00:00:00</td>\n",
       "      <td>0 days 00:20:36</td>\n",
       "      <td>0.000000</td>\n",
       "      <td>1 days 19:34:50</td>\n",
       "      <td>1.000000</td>\n",
       "      <td>7 days 02:23:34</td>\n",
       "      <td>7.000000</td>\n",
       "      <td>11 days 22:41:24</td>\n",
       "      <td>11.000000</td>\n",
       "    </tr>\n",
       "    <tr>\n",
       "      <th>75%</th>\n",
       "      <td>2018-05-05 18:33:24</td>\n",
       "      <td>2018-05-06 10:30:49</td>\n",
       "      <td>2018-05-08 14:33:00</td>\n",
       "      <td>2018-05-15 23:08:54</td>\n",
       "      <td>2018-05-28 00:00:00</td>\n",
       "      <td>0 days 14:31:05</td>\n",
       "      <td>0.000000</td>\n",
       "      <td>3 days 13:48:18</td>\n",
       "      <td>3.000000</td>\n",
       "      <td>12 days 00:42:14</td>\n",
       "      <td>12.000000</td>\n",
       "      <td>16 days 05:51:07</td>\n",
       "      <td>16.000000</td>\n",
       "    </tr>\n",
       "    <tr>\n",
       "      <th>max</th>\n",
       "      <td>2018-08-29 15:00:37</td>\n",
       "      <td>2018-08-29 15:10:26</td>\n",
       "      <td>2018-09-11 19:48:28</td>\n",
       "      <td>2018-10-17 13:22:46</td>\n",
       "      <td>2018-10-25 00:00:00</td>\n",
       "      <td>30 days 21:26:37</td>\n",
       "      <td>30.000000</td>\n",
       "      <td>125 days 18:18:06</td>\n",
       "      <td>125.000000</td>\n",
       "      <td>205 days 04:35:00</td>\n",
       "      <td>205.000000</td>\n",
       "      <td>146 days 00:23:13</td>\n",
       "      <td>146.000000</td>\n",
       "    </tr>\n",
       "    <tr>\n",
       "      <th>std</th>\n",
       "      <td>152 days 19:54:03.659502606</td>\n",
       "      <td>152 days 20:09:06.204151638</td>\n",
       "      <td>152 days 13:33:39.945655264</td>\n",
       "      <td>152 days 04:43:23.650356060</td>\n",
       "      <td>151 days 02:35:43.775473620</td>\n",
       "      <td>0 days 20:32:08.144063780</td>\n",
       "      <td>0.729936</td>\n",
       "      <td>3 days 12:54:06.348358820</td>\n",
       "      <td>3.548444</td>\n",
       "      <td>8 days 18:15:24.626362231</td>\n",
       "      <td>8.746673</td>\n",
       "      <td>10 days 04:27:25.366427548</td>\n",
       "      <td>10.183476</td>\n",
       "    </tr>\n",
       "    <tr>\n",
       "      <th>iqr</th>\n",
       "      <td>233 days 09:04:56</td>\n",
       "      <td>233 days 20:00:35</td>\n",
       "      <td>231 days 21:40:41</td>\n",
       "      <td>232 days 00:36:55</td>\n",
       "      <td>235 days 00:00:00</td>\n",
       "      <td>0 days 14:18:10</td>\n",
       "      <td>0.000000</td>\n",
       "      <td>2 days 16:49:13</td>\n",
       "      <td>3.000000</td>\n",
       "      <td>7 days 22:18:48</td>\n",
       "      <td>8.000000</td>\n",
       "      <td>9 days 20:30:32</td>\n",
       "      <td>10.000000</td>\n",
       "    </tr>\n",
       "  </tbody>\n",
       "</table>\n",
       "</div>"
      ],
      "text/plain": [
       "            order_purchase_timestamp              order_approved_at  \\\n",
       "count                          96461                          96461   \n",
       "mean   2018-01-01 23:53:26.642249216  2018-01-02 10:10:06.480142336   \n",
       "min              2016-09-15 12:16:38            2016-09-15 12:16:38   \n",
       "25%              2017-09-14 09:28:28            2017-09-14 14:30:14   \n",
       "50%              2018-01-20 19:59:42            2018-01-22 13:49:00   \n",
       "75%              2018-05-05 18:33:24            2018-05-06 10:30:49   \n",
       "max              2018-08-29 15:00:37            2018-08-29 15:10:26   \n",
       "std      152 days 19:54:03.659502606    152 days 20:09:06.204151638   \n",
       "iqr                233 days 09:04:56              233 days 20:00:35   \n",
       "\n",
       "        order_delivered_carrier_date  order_delivered_customer_date  \\\n",
       "count                          96461                          96461   \n",
       "mean   2018-01-05 05:21:04.508827392  2018-01-14 13:17:13.228102400   \n",
       "min              2016-10-08 10:34:01            2016-10-11 13:46:32   \n",
       "25%              2017-09-18 16:52:19            2017-09-25 22:31:59   \n",
       "50%              2018-01-24 16:19:03            2018-02-02 19:50:56   \n",
       "75%              2018-05-08 14:33:00            2018-05-15 23:08:54   \n",
       "max              2018-09-11 19:48:28            2018-10-17 13:22:46   \n",
       "std      152 days 13:33:39.945655264    152 days 04:43:23.650356060   \n",
       "iqr                231 days 21:40:41              232 days 00:36:55   \n",
       "\n",
       "       order_estimated_delivery_date         dias_ate_aprovacao          dias  \\\n",
       "count                          96461                      96461  96461.000000   \n",
       "mean   2018-01-25 17:33:14.236012544  0 days 10:16:39.837893034      0.264345   \n",
       "min              2016-10-04 00:00:00            0 days 00:00:00      0.000000   \n",
       "25%              2017-10-05 00:00:00            0 days 00:12:55      0.000000   \n",
       "50%              2018-02-16 00:00:00            0 days 00:20:36      0.000000   \n",
       "75%              2018-05-28 00:00:00            0 days 14:31:05      0.000000   \n",
       "max              2018-10-25 00:00:00           30 days 21:26:37     30.000000   \n",
       "std      151 days 02:35:43.775473620  0 days 20:32:08.144063780      0.729936   \n",
       "iqr                235 days 00:00:00            0 days 14:18:10      0.000000   \n",
       "\n",
       "        aprov_ate_transportadora  dias_ate_transp         transp_ate_entrega  \\\n",
       "count                      96461     96461.000000                      96461   \n",
       "mean   2 days 19:10:58.028685168         2.295923  9 days 07:56:08.719275147   \n",
       "min          -172 days +18:44:38      -172.000000         -17 days +21:41:31   \n",
       "25%              0 days 20:59:05         0.000000            4 days 02:23:26   \n",
       "50%              1 days 19:34:50         1.000000            7 days 02:23:34   \n",
       "75%              3 days 13:48:18         3.000000           12 days 00:42:14   \n",
       "max            125 days 18:18:06       125.000000          205 days 04:35:00   \n",
       "std    3 days 12:54:06.348358820         3.548444  8 days 18:15:24.626362231   \n",
       "iqr              2 days 16:49:13         3.000000            7 days 22:18:48   \n",
       "\n",
       "       dias_ate_entrega        dif_entrega_prevista  dif_dias_previsao  \n",
       "count      96461.000000                       96461       96461.000000  \n",
       "mean           8.878396  11 days 04:16:01.007909932          10.875577  \n",
       "min          -17.000000         -189 days +00:35:53        -189.000000  \n",
       "25%            4.000000             6 days 09:20:35           6.000000  \n",
       "50%            7.000000            11 days 22:41:24          11.000000  \n",
       "75%           12.000000            16 days 05:51:07          16.000000  \n",
       "max          205.000000           146 days 00:23:13         146.000000  \n",
       "std            8.746673  10 days 04:27:25.366427548          10.183476  \n",
       "iqr            8.000000             9 days 20:30:32          10.000000  "
      ]
     },
     "execution_count": 94,
     "metadata": {},
     "output_type": "execute_result"
    }
   ],
   "source": [
    "stats"
   ]
  },
  {
   "cell_type": "code",
   "execution_count": 101,
   "metadata": {},
   "outputs": [
    {
     "data": {
      "image/png": "[encoded data removed]",
      "text/plain": [
       "<Figure size 640x480 with 1 Axes>"
      ]
     },
     "metadata": {},
     "output_type": "display_data"
    }
   ],
   "source": [
    "plt.hist(df['dias_ate_entrega'])\n",
    "plt.show()"
   ]
  },
  {
   "cell_type": "code",
   "execution_count": 103,
   "metadata": {},
   "outputs": [
    {
     "data": {
      "text/plain": [
       "(array([1.2000e+01, 1.3000e+01, 2.3000e+01, 5.1000e+01, 6.9600e+02,\n",
       "        4.7647e+04, 4.7817e+04, 1.9500e+02, 3.0000e+00, 4.0000e+00]),\n",
       " array([-189. , -155.5, -122. ,  -88.5,  -55. ,  -21.5,   12. ,   45.5,\n",
       "          79. ,  112.5,  146. ]),\n",
       " <BarContainer object of 10 artists>)"
      ]
     },
     "execution_count": 103,
     "metadata": {},
     "output_type": "execute_result"
    },
    {
     "data": {
      "image/png": "[encoded data removed]",
      "text/plain": [
       "<Figure size 640x480 with 1 Axes>"
      ]
     },
     "metadata": {},
     "output_type": "display_data"
    }
   ],
   "source": [
    "plt.hist(df['dif_dias_previsao'])"
   ]
  },
  {
   "cell_type": "code",
   "execution_count": 140,
   "metadata": {},
   "outputs": [
    {
     "data": {
      "text/plain": [
       "order_status\n",
       "delivered    96455\n",
       "canceled         6\n",
       "Name: count, dtype: int64"
      ]
     },
     "execution_count": 140,
     "metadata": {},
     "output_type": "execute_result"
    }
   ],
   "source": [
    "delivered , canceled = order_status = df['order_status'].value_counts()\n",
    "order_status"
   ]
  },
  {
   "cell_type": "code",
   "execution_count": 141,
   "metadata": {},
   "outputs": [],
   "source": [
    "order_status = order_status.to_list()"
   ]
  },
  {
   "cell_type": "code",
   "execution_count": 129,
   "metadata": {},
   "outputs": [
    {
     "data": {
      "text/plain": [
       "([<matplotlib.patches.Wedge at 0x13f6f4d51f0>,\n",
       "  <matplotlib.patches.Wedge at 0x13f6f4d50a0>],\n",
       " [Text(-1.0999999789969634, 0.0002149573919234968, 'Delivered'),\n",
       "  Text(1.0999999790157513, -0.00021486122686732804, 'Canceled')])"
      ]
     },
     "execution_count": 129,
     "metadata": {},
     "output_type": "execute_result"
    },
    {
     "data": {
      "image/png": "[encoded data removed]",
      "text/plain": [
       "<Figure size 640x480 with 1 Axes>"
      ]
     },
     "metadata": {},
     "output_type": "display_data"
    }
   ],
   "source": [
    "plt.pie(order_status, colors=['blue', 'red'], labels=['Delivered', 'Canceled'])"
   ]
  },
  {
   "cell_type": "code",
   "execution_count": 116,
   "metadata": {},
   "outputs": [
    {
     "name": "stdout",
     "output_type": "stream",
     "text": [
      "Help on function pie in module matplotlib.pyplot:\n",
      "\n",
      "pie(x: 'ArrayLike', explode: 'ArrayLike | None' = None, labels: 'Sequence[str] | None' = None, colors: 'ColorType | Sequence[ColorType] | None' = None, autopct: 'str | Callable[[float], str] | None' = None, pctdistance: 'float' = 0.6, shadow: 'bool' = False, labeldistance: 'float | None' = 1.1, startangle: 'float' = 0, radius: 'float' = 1, counterclock: 'bool' = True, wedgeprops: 'dict[str, Any] | None' = None, textprops: 'dict[str, Any] | None' = None, center: 'tuple[float, float]' = (0, 0), frame: 'bool' = False, rotatelabels: 'bool' = False, *, normalize: 'bool' = True, hatch: 'str | Sequence[str] | None' = None, data=None) -> 'tuple[list[Wedge], list[Text]] | tuple[list[Wedge], list[Text], list[Text]]'\n",
      "    Plot a pie chart.\n",
      "\n",
      "    Make a pie chart of array *x*.  The fractional area of each wedge is\n",
      "    given by ``x/sum(x)``.\n",
      "\n",
      "    The wedges are plotted counterclockwise, by default starting from the\n",
      "    x-axis.\n",
      "\n",
      "    Parameters\n",
      "    ----------\n",
      "    x : 1D array-like\n",
      "        The wedge sizes.\n",
      "\n",
      "    explode : array-like, default: None\n",
      "        If not *None*, is a ``len(x)`` array which specifies the fraction\n",
      "        of the radius with which to offset each wedge.\n",
      "\n",
      "    labels : list, default: None\n",
      "        A sequence of strings providing the labels for each wedge\n",
      "\n",
      "    colors : :mpltype:`color` or list of :mpltype:`color`, default: None\n",
      "        A sequence of colors through which the pie chart will cycle.  If\n",
      "        *None*, will use the colors in the currently active cycle.\n",
      "\n",
      "    hatch : str or list, default: None\n",
      "        Hatching pattern applied to all pie wedges or sequence of patterns\n",
      "        through which the chart will cycle. For a list of valid patterns,\n",
      "        see :doc:`/gallery/shapes_and_collections/hatch_style_reference`.\n",
      "\n",
      "        .. versionadded:: 3.7\n",
      "\n",
      "    autopct : None or str or callable, default: None\n",
      "        If not *None*, *autopct* is a string or function used to label the\n",
      "        wedges with their numeric value. The label will be placed inside\n",
      "        the wedge. If *autopct* is a format string, the label will be\n",
      "        ``fmt % pct``. If *autopct* is a function, then it will be called.\n",
      "\n",
      "    pctdistance : float, default: 0.6\n",
      "        The relative distance along the radius at which the text\n",
      "        generated by *autopct* is drawn. To draw the text outside the pie,\n",
      "        set *pctdistance* > 1. This parameter is ignored if *autopct* is\n",
      "        ``None``.\n",
      "\n",
      "    labeldistance : float or None, default: 1.1\n",
      "        The relative distance along the radius at which the labels are\n",
      "        drawn. To draw the labels inside the pie, set  *labeldistance* < 1.\n",
      "        If set to ``None``, labels are not drawn but are still stored for\n",
      "        use in `.legend`.\n",
      "\n",
      "    shadow : bool or dict, default: False\n",
      "        If bool, whether to draw a shadow beneath the pie. If dict, draw a shadow\n",
      "        passing the properties in the dict to `.Shadow`.\n",
      "\n",
      "        .. versionadded:: 3.8\n",
      "            *shadow* can be a dict.\n",
      "\n",
      "    startangle : float, default: 0 degrees\n",
      "        The angle by which the start of the pie is rotated,\n",
      "        counterclockwise from the x-axis.\n",
      "\n",
      "    radius : float, default: 1\n",
      "        The radius of the pie.\n",
      "\n",
      "    counterclock : bool, default: True\n",
      "        Specify fractions direction, clockwise or counterclockwise.\n",
      "\n",
      "    wedgeprops : dict, default: None\n",
      "        Dict of arguments passed to each `.patches.Wedge` of the pie.\n",
      "        For example, ``wedgeprops = {'linewidth': 3}`` sets the width of\n",
      "        the wedge border lines equal to 3. By default, ``clip_on=False``.\n",
      "        When there is a conflict between these properties and other\n",
      "        keywords, properties passed to *wedgeprops* take precedence.\n",
      "\n",
      "    textprops : dict, default: None\n",
      "        Dict of arguments to pass to the text objects.\n",
      "\n",
      "    center : (float, float), default: (0, 0)\n",
      "        The coordinates of the center of the chart.\n",
      "\n",
      "    frame : bool, default: False\n",
      "        Plot Axes frame with the chart if true.\n",
      "\n",
      "    rotatelabels : bool, default: False\n",
      "        Rotate each label to the angle of the corresponding slice if true.\n",
      "\n",
      "    normalize : bool, default: True\n",
      "        When *True*, always make a full pie by normalizing x so that\n",
      "        ``sum(x) == 1``. *False* makes a partial pie if ``sum(x) <= 1``\n",
      "        and raises a `ValueError` for ``sum(x) > 1``.\n",
      "\n",
      "    data : indexable object, optional\n",
      "        If given, the following parameters also accept a string ``s``, which is\n",
      "        interpreted as ``data[s]`` (unless this raises an exception):\n",
      "\n",
      "        *x*, *explode*, *labels*, *colors*\n",
      "\n",
      "    Returns\n",
      "    -------\n",
      "    patches : list\n",
      "        A sequence of `matplotlib.patches.Wedge` instances\n",
      "\n",
      "    texts : list\n",
      "        A list of the label `.Text` instances.\n",
      "\n",
      "    autotexts : list\n",
      "        A list of `.Text` instances for the numeric labels. This will only\n",
      "        be returned if the parameter *autopct* is not *None*.\n",
      "\n",
      "    Notes\n",
      "    -----\n",
      "\n",
      "    .. note::\n",
      "\n",
      "        This is the :ref:`pyplot wrapper <pyplot_interface>` for `.axes.Axes.pie`.\n",
      "\n",
      "    The pie chart will probably look best if the figure and Axes are\n",
      "    square, or the Axes aspect is equal.\n",
      "    This method sets the aspect ratio of the axis to \"equal\".\n",
      "    The Axes aspect ratio can be controlled with `.Axes.set_aspect`.\n",
      "\n"
     ]
    }
   ],
   "source": [
    "help(plt.pie)"
   ]
  },
  {
   "cell_type": "code",
   "execution_count": 165,
   "metadata": {},
   "outputs": [
    {
     "data": {
      "text/plain": [
       "ano\n",
       "2018    52835\n",
       "2017    43354\n",
       "2016      272\n",
       "Name: count, dtype: int64"
      ]
     },
     "execution_count": 165,
     "metadata": {},
     "output_type": "execute_result"
    }
   ],
   "source": [
    "pedidos_por_ano = df['ano'].value_counts()\n",
    "anos = pedidos_por_ano.index.to_list()\n",
    "pedidos_por_ano"
   ]
  },
  {
   "cell_type": "code",
   "execution_count": 135,
   "metadata": {},
   "outputs": [
    {
     "data": {
      "text/plain": [
       "([<matplotlib.patches.Wedge at 0x13f6df6f830>,\n",
       "  <matplotlib.patches.Wedge at 0x13f6df8dd30>,\n",
       "  <matplotlib.patches.Wedge at 0x13f6df6bc50>],\n",
       " [Text(-0.16434047672695004, 1.0876544523464973, '2018'),\n",
       "  Text(0.15469906605746336, -1.089067582366195, '2017'),\n",
       "  Text(1.0999568400627127, -0.009744229022971975, '2016')])"
      ]
     },
     "execution_count": 135,
     "metadata": {},
     "output_type": "execute_result"
    },
    {
     "data": {
      "image/png": "[encoded data removed]",
      "text/plain": [
       "<Figure size 640x480 with 1 Axes>"
      ]
     },
     "metadata": {},
     "output_type": "display_data"
    }
   ],
   "source": [
    "plt.pie(pedidos_por_ano, labels=['2018', '2017', '2016'])"
   ]
  },
  {
   "cell_type": "code",
   "execution_count": 163,
   "metadata": {},
   "outputs": [
    {
     "data": {
      "text/plain": [
       "<BarContainer object of 3 artists>"
      ]
     },
     "execution_count": 163,
     "metadata": {},
     "output_type": "execute_result"
    },
    {
     "data": {
      "image/png": "[encoded data removed]",
      "text/plain": [
       "<Figure size 640x480 with 1 Axes>"
      ]
     },
     "metadata": {},
     "output_type": "display_data"
    }
   ],
   "source": [
    "plt.bar(anos, pedidos_por_ano, color='green', tick_label=anos, label=anos, ecolor='red')"
   ]
  },
  {
   "cell_type": "code",
   "execution_count": 164,
   "metadata": {},
   "outputs": [
    {
     "data": {
      "text/plain": [
       "{'whiskers': [<matplotlib.lines.Line2D at 0x13f703c8c50>,\n",
       "  <matplotlib.lines.Line2D at 0x13f703c8f50>],\n",
       " 'caps': [<matplotlib.lines.Line2D at 0x13f703c9250>,\n",
       "  <matplotlib.lines.Line2D at 0x13f703c93a0>],\n",
       " 'boxes': [<matplotlib.lines.Line2D at 0x13f7039c050>],\n",
       " 'medians': [<matplotlib.lines.Line2D at 0x13f703c9670>],\n",
       " 'fliers': [<matplotlib.lines.Line2D at 0x13f703c9970>],\n",
       " 'means': []}"
      ]
     },
     "execution_count": 164,
     "metadata": {},
     "output_type": "execute_result"
    },
    {
     "data": {
      "image/png": "[encoded data removed]",
      "text/plain": [
       "<Figure size 640x480 with 1 Axes>"
      ]
     },
     "metadata": {},
     "output_type": "display_data"
    }
   ],
   "source": [
    "plt.boxplot(pedidos_por_ano)"
   ]
  },
  {
   "cell_type": "markdown",
   "metadata": {},
   "source": [
    "Caixa (Box):\n",
    "\n",
    "Representa os 50% centrais dos dados, do primeiro quartil (Q1) ao terceiro quartil (Q3).\n",
    "A linha dentro da caixa representa a mediana (Q2), que é o valor central dos dados. No gráfico, a mediana está um pouco acima de 40000.\n",
    "Extremidades da Caixa (Whiskers):\n",
    "\n",
    "As \"pernas\" que se estendem da caixa até o valor máximo e mínimo dentro de 1.5 vezes o intervalo interquartil (IQR).\n",
    "O IQR é a diferença entre o terceiro quartil (Q3) e o primeiro quartil (Q1).\n",
    "\n",
    "Outliers:\n",
    "\n",
    "Qualquer ponto fora das extremidades das \"whiskers\" é considerado um outlier. No gráfico mostrado, não há pontos fora dessas extremidades, indicando que não há outliers.\n",
    "\n",
    "Interpretação dos Dados:\n",
    "\n",
    "A mediana está em torno de 40000 pedidos por ano, indicando que metade dos dados está abaixo e metade está acima desse valor.\n",
    "O intervalo entre Q1 e Q3 é amplo, sugerindo uma variabilidade significativa nos pedidos por ano.\n",
    "O valor mínimo (Q1 - 1.5*IQR) parece estar perto de zero, refletindo o dado de 2016 com apenas 272 pedidos.\n",
    "\n",
    "Análise dos Dados do Boxplot:\n",
    "\n",
    "2016: O ano de 2016 tem significativamente menos pedidos (272), sendo uma possível razão para o valor mínimo próximo a zero.\n",
    "\n",
    "2017 e 2018: Esses anos têm valores de pedidos substancialmente maiores (43354 e 52835 respectivamente), influenciando os valores de Q1, Q3 e a mediana para níveis mais altos.\n",
    "\n",
    "Conclusão:\n",
    "Este boxplot mostra que os pedidos variam amplamente entre os anos analisados, com um aumento significativo de 2016 para 2017 e 2018. A mediana alta e a ampla distribuição refletem essa variação."
   ]
  },
  {
   "cell_type": "markdown",
   "metadata": {},
   "source": []
  }
 ],
 "metadata": {
  "kernelspec": {
   "display_name": "env",
   "language": "python",
   "name": "python3"
  },
  "language_info": {
   "codemirror_mode": {
    "name": "ipython",
    "version": 3
   },
   "file_extension": ".py",
   "mimetype": "text/x-python",
   "name": "python",
   "nbconvert_exporter": "python",
   "pygments_lexer": "ipython3",
   "version": "3.12.1"
  }
 },
 "nbformat": 4,
 "nbformat_minor": 2
}
